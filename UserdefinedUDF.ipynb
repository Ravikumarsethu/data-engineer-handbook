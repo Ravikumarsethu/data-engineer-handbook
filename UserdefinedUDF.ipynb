{
  "nbformat": 4,
  "nbformat_minor": 0,
  "metadata": {
    "colab": {
      "provenance": [],
      "authorship_tag": "ABX9TyMRd4JpkII6QThja6FpRe/A",
      "include_colab_link": true
    },
    "kernelspec": {
      "name": "python3",
      "display_name": "Python 3"
    },
    "language_info": {
      "name": "python"
    }
  },
  "cells": [
    {
      "cell_type": "markdown",
      "metadata": {
        "id": "view-in-github",
        "colab_type": "text"
      },
      "source": [
        "<a href=\"https://colab.research.google.com/github/Ravikumarsethu/data-engineer-handbook/blob/main/UserdefinedUDF.ipynb\" target=\"_parent\"><img src=\"https://colab.research.google.com/assets/colab-badge.svg\" alt=\"Open In Colab\"/></a>"
      ]
    },
    {
      "cell_type": "code",
      "execution_count": 1,
      "metadata": {
        "colab": {
          "base_uri": "https://localhost:8080/"
        },
        "id": "6LfAyc2-WhX-",
        "outputId": "d54e4cc3-002c-4ab9-a159-760864df8043"
      },
      "outputs": [
        {
          "output_type": "stream",
          "name": "stdout",
          "text": [
            "+------------------------------------------+-----------------------+-----------+------------------------+-------------+----------+---------------+\n",
            "|Species                                   |Category               |Period     |Annual percentage change|English_Name |Start_Year|Trend          |\n",
            "+------------------------------------------+-----------------------+-----------+------------------------+-------------+----------+---------------+\n",
            "|Greenfinch (Chloris chloris)              |Farmland birds         |(1970-2014)|-1.13                   |Greenfinch   |1970      |weak decline   |\n",
            "|Siskin (Carduelis spinus)                 |Woodland birds         |(1995-2014)|2.26                    |Siskin       |1995      |weak increase  |\n",
            "|European shag (Phalacrocorax artistotelis)|Seabirds               |(1986-2014)|-2.31                   |European shag|1986      |weak decline   |\n",
            "|Mute Swan (Cygnus olor)                   |Water and wetland birds|(1975-2014)|1.65                    |Mute Swan    |1975      |weak increase  |\n",
            "|Collared Dove (Streptopelia decaocto)     |Other                  |(1970-2014)|5.2                     |Collared Dove|1970      |strong increase|\n",
            "+------------------------------------------+-----------------------+-----------+------------------------+-------------+----------+---------------+\n",
            "\n"
          ]
        }
      ],
      "source": [
        "from pyspark.sql import SparkSession\n",
        "from pyspark.sql.functions import udf\n",
        "from pyspark.sql.types import StringType, IntegerType, FloatType\n",
        "\n",
        "# Initialize Spark\n",
        "spark = SparkSession.builder.appName(\"Bird Trends\").getOrCreate()\n",
        "\n",
        "# Sample data\n",
        "data = [\n",
        "    (\"Greenfinch (Chloris chloris)\", \"Farmland birds\", \"(1970-2014)\", -1.13),\n",
        "    (\"Siskin (Carduelis spinus)\", \"Woodland birds\", \"(1995-2014)\", 2.26),\n",
        "    (\"European shag (Phalacrocorax artistotelis)\", \"Seabirds\", \"(1986-2014)\", -2.31),\n",
        "    (\"Mute Swan (Cygnus olor)\", \"Water and wetland birds\", \"(1975-2014)\", 1.65),\n",
        "    (\"Collared Dove (Streptopelia decaocto)\", \"Other\", \"(1970-2014)\", 5.2),\n",
        "]\n",
        "\n",
        "columns = [\"Species\", \"Category\", \"Period\", \"Annual percentage change\"]\n",
        "df = spark.createDataFrame(data, columns)\n",
        "\n",
        "# Define functions\n",
        "def get_english_name(species):\n",
        "    return species.split('(')[0].strip() if '(' in species else species.strip()\n",
        "\n",
        "def get_start_year(period):\n",
        "    return int(period.strip(\"()\").split('-')[0])\n",
        "\n",
        "def get_trend(percentage):\n",
        "    if percentage < -3.00:\n",
        "        return 'strong decline'\n",
        "    elif -3.00 <= percentage <= -0.50:\n",
        "        return 'weak decline'\n",
        "    elif -0.50 < percentage < 0.50:\n",
        "        return 'no change'\n",
        "    elif 0.50 <= percentage <= 3.00:\n",
        "        return 'weak increase'\n",
        "    else:\n",
        "        return 'strong increase'\n",
        "\n",
        "# Register UDFs\n",
        "spark.udf.register(\"get_english_name\", get_english_name, StringType())\n",
        "spark.udf.register(\"get_start_year\", get_start_year, IntegerType())\n",
        "spark.udf.register(\"get_trend\", get_trend, StringType())\n",
        "\n",
        "# Apply UDFs\n",
        "df_transformed = df.withColumn(\"English_Name\", udf(get_english_name, StringType())(df[\"Species\"])) \\\n",
        "                   .withColumn(\"Start_Year\", udf(get_start_year, IntegerType())(df[\"Period\"])) \\\n",
        "                   .withColumn(\"Trend\", udf(get_trend, StringType())(df[\"Annual percentage change\"]))\n",
        "\n",
        "df_transformed.show(truncate=False)\n"
      ]
    }
  ]
}